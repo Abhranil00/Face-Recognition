{
 "cells": [
  {
   "cell_type": "code",
   "execution_count": 2,
   "id": "dc4b8d60",
   "metadata": {},
   "outputs": [],
   "source": [
    "import cv2"
   ]
  },
  {
   "cell_type": "code",
   "execution_count": 3,
   "id": "dd69a640",
   "metadata": {},
   "outputs": [],
   "source": [
    "cascad = cv2.CascadeClassifier('face.xml')"
   ]
  },
  {
   "cell_type": "code",
   "execution_count": 4,
   "id": "7c4fb685",
   "metadata": {},
   "outputs": [
    {
     "name": "stdout",
     "output_type": "stream",
     "text": [
      "Enter Id1\n"
     ]
    }
   ],
   "source": [
    "value = input(\"Enter Id\")\n",
    "counter = 0"
   ]
  },
  {
   "cell_type": "code",
   "execution_count": 5,
   "id": "43603ec4",
   "metadata": {},
   "outputs": [],
   "source": [
    "cam = cv2.VideoCapture(0)\n",
    "while True:\n",
    "    a,frame = cam.read()\n",
    "    gray = cv2.cvtColor(frame,cv2.COLOR_BGR2GRAY)\n",
    "    facecordi = cascad.detectMultiScale(gray,1.3,4)\n",
    "    for (x,y,w,h) in facecordi :\n",
    "        cv2.rectangle(frame,(x,y),(x+w,y+h),(0,0,255),2)\n",
    "        counter += 1\n",
    "        cv2.imwrite('E:\\\\Project\\\\msme_project\\\\pic\\\\user.' + value +'.' + str(counter) + '.jpg',gray[y:y+h,x:x+w])\n",
    "    if cv2.waitKey(1) == 27: #27=esc button\n",
    "        break\n",
    "    elif counter > 200 :\n",
    "        break\n",
    "    cv2.imshow('project',frame)\n",
    "\n",
    "cam.release()\n",
    "cv2.destroyAllWindows()"
   ]
  },
  {
   "cell_type": "code",
   "execution_count": 10,
   "id": "78c03fa9",
   "metadata": {},
   "outputs": [],
   "source": [
    "cam.release()\n",
    "cv2.destroyAllWindows()"
   ]
  },
  {
   "cell_type": "code",
   "execution_count": null,
   "id": "7783fa8d",
   "metadata": {},
   "outputs": [],
   "source": []
  }
 ],
 "metadata": {
  "kernelspec": {
   "display_name": "Python 3 (ipykernel)",
   "language": "python",
   "name": "python3"
  },
  "language_info": {
   "codemirror_mode": {
    "name": "ipython",
    "version": 3
   },
   "file_extension": ".py",
   "mimetype": "text/x-python",
   "name": "python",
   "nbconvert_exporter": "python",
   "pygments_lexer": "ipython3",
   "version": "3.7.1"
  }
 },
 "nbformat": 4,
 "nbformat_minor": 5
}
